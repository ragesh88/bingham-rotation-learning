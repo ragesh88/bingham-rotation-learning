{
 "cells": [
  {
   "cell_type": "markdown",
   "metadata": {
    "pycharm": {
     "name": "#%% md\n"
    }
   },
   "source": [
    "## Bingham Rotation Learning Demo\n"
   ]
  },
  {
   "cell_type": "code",
   "execution_count": 1,
   "metadata": {
    "pycharm": {
     "name": "#%%\n"
    }
   },
   "outputs": [],
   "source": [
    "import torch\n",
    "import numpy as np\n",
    "from networks import *\n",
    "from losses import *\n",
    "from helpers_sim import *\n",
    "import argparse\n"
   ]
  },
  {
   "cell_type": "markdown",
   "metadata": {
    "pycharm": {
     "name": "#%% md\n"
    }
   },
   "source": [
    "Create a parser object with our desired settings:"
   ]
  },
  {
   "cell_type": "code",
   "execution_count": 2,
   "metadata": {
    "pycharm": {
     "name": "#%%\n"
    }
   },
   "outputs": [
    {
     "name": "stdout",
     "output_type": "stream",
     "text": [
      "Namespace(N_test=100, N_train=500, batch_size_test=100, batch_size_train=100, beachball_sigma_factors=[0.1, 0.5, 2, 10], cuda=False, dataset='dynamic', double=False, enforce_psd=False, epochs=100, lr=0.0005, matches_per_sample=25, max_rotation_angle=180.0, sim_sigma=0.01, unit_frob=False)\n"
     ]
    }
   ],
   "source": [
    "parser = argparse.ArgumentParser(description='Synthetic Wahba arguments.')\n",
    "parser.add_argument('--sim_sigma', type=float, default=1e-2)\n",
    "parser.add_argument('--N_train', type=int, default=500)\n",
    "parser.add_argument('--N_test', type=int, default=100)\n",
    "parser.add_argument('--matches_per_sample', type=int, default=25)\n",
    "\n",
    "parser.add_argument('--epochs', type=int, default=100)\n",
    "parser.add_argument('--batch_size_train', type=int, default=100)\n",
    "parser.add_argument('--batch_size_test', type=int, default=100)\n",
    "parser.add_argument('--lr', type=float, default=5e-4)\n",
    "\n",
    "parser.add_argument('--dataset', choices=['static', 'dynamic', 'dynamic_beachball'], default='dynamic')\n",
    "parser.add_argument('--beachball_sigma_factors', type=lambda s: [float(item) for item in s.split(',')], default=[0.1, 0.5, 2, 10], help='Heteroscedastic point cloud that has different noise levels (resembling a beachball).')\n",
    "parser.add_argument('--max_rotation_angle', type=float, default=180., help='In degrees. Maximum axis-angle rotation of simulated rotation.')\n",
    "\n",
    "parser.add_argument('--cuda', action='store_true', default=False)\n",
    "parser.add_argument('--double', action='store_true', default=False)\n",
    "parser.add_argument('--enforce_psd', action='store_true', default=False)\n",
    "parser.add_argument('--unit_frob', action='store_true', default=False)\n",
    "\n",
    "args = parser.parse_args([])\n",
    "print(args)"
   ]
  },
  {
   "cell_type": "markdown",
   "metadata": {
    "pycharm": {
     "name": "#%% md\n"
    }
   },
   "source": [
    "Specify the device to use while training"
   ]
  },
  {
   "cell_type": "code",
   "execution_count": 3,
   "metadata": {
    "pycharm": {
     "name": "#%%\n"
    }
   },
   "outputs": [],
   "source": [
    "device = torch.device('cuda:0') if args.cuda else torch.device('cpu')\n",
    "tensor_type = torch.double if args.double else torch.float"
   ]
  },
  {
   "cell_type": "markdown",
   "metadata": {
    "pycharm": {
     "name": "#%% md\n"
    }
   },
   "source": [
    "Generate the training and test data"
   ]
  },
  {
   "cell_type": "code",
   "execution_count": 4,
   "metadata": {
    "pycharm": {
     "name": "#%%\n"
    }
   },
   "outputs": [],
   "source": [
    "if args.dataset == 'static':\n",
    "    train_data, test_data = create_experimental_data_fast(args.N_train, args.N_test, args.matches_per_sample,\n",
    "                                                          sigma=args.sim_sigma, device=device, dtype=tensor_type)\n",
    "else:\n",
    "    #Data will be generated on the fly\n",
    "    train_data, test_data = None, None"
   ]
  },
  {
   "cell_type": "markdown",
   "metadata": {
    "pycharm": {
     "name": "#%% md\n"
    }
   },
   "source": [
    "Define our Bingham distribution model with `symeig`"
   ]
  },
  {
   "cell_type": "code",
   "execution_count": 5,
   "metadata": {
    "pycharm": {
     "name": "#%%\n"
    }
   },
   "outputs": [],
   "source": [
    "def A_vec_to_quat(A_vec):\n",
    "    A = convert_Avec_to_A(A_vec)\n",
    "    _, evs = torch.symeig(A, eigenvectors=True)\n",
    "    return evs[:,:,0].squeeze()\n",
    "\n",
    "class BinghamNetDemo(torch.nn.Module):\n",
    "    def __init__(self, enforce_psd=True, unit_frob_norm=True, batchnorm=False):\n",
    "        super(BinghamNetDemo, self).__init__()\n",
    "        self.A_net = PointNet(dim_out=10, normalize_output=False, batchnorm=batchnorm)\n",
    "        self.enforce_psd = enforce_psd\n",
    "        # self.unit_frob_norm = unit_frob_norm\n",
    "        # self.qcqp_solver = QuadQuatFastSolver.apply\n",
    "\n",
    "    def output_A(self, x):\n",
    "        A_vec = self.A_net(x)\n",
    "        if self.enforce_psd:\n",
    "            A_vec = convert_Avec_to_Avec_psd(A_vec)\n",
    "        if self.unit_frob_norm:\n",
    "            A_vec = normalize_Avec(A_vec)\n",
    "\n",
    "        return convert_Avec_to_A(A_vec)\n",
    "\n",
    "    def forward(self, x):\n",
    "        A_vec = self.A_net(x)\n",
    "\n",
    "        # if self.enforce_psd:\n",
    "        #     A_vec = convert_Avec_to_Avec_psd(A_vec)\n",
    "        # if self.unit_frob_norm:\n",
    "        #     A_vec = normalize_Avec(A_vec)\n",
    "        # q = self.qcqp_solver(A_vec)\n",
    "        q = A_vec_to_quat(A_vec)\n",
    "        return q\n"
   ]
  },
  {
   "cell_type": "markdown",
   "metadata": {
    "pycharm": {
     "name": "#%% md\n"
    }
   },
   "source": [
    "Set up the cost function and model for our approach and the 2 baselines"
   ]
  },
  {
   "cell_type": "code",
   "execution_count": 6,
   "metadata": {
    "pycharm": {
     "name": "#%%\n"
    }
   },
   "outputs": [],
   "source": [
    "model_quat = PointNet(dim_out=4, normalize_output=True).to(device=device, dtype=tensor_type)\n",
    "loss_fn_quat = quat_chordal_squared_loss\n",
    "\n",
    "model_6D = RotMat6DDirect().to(device=device, dtype=tensor_type)\n",
    "loss_fn_6D = rotmat_frob_squared_norm_loss\n",
    "\n",
    "model_bingham = QuatNet(enforce_psd=args.enforce_psd, unit_frob_norm=args.unit_frob).to(device=device, dtype=tensor_type)\n",
    "loss_fn_bingham = quat_chordal_squared_loss"
   ]
  },
  {
   "cell_type": "markdown",
   "metadata": {
    "pycharm": {
     "name": "#%% md\n"
    }
   },
   "source": [
    "Train the models on the same data"
   ]
  },
  {
   "cell_type": "code",
   "execution_count": 7,
   "metadata": {
    "pycharm": {
     "name": "#%%\n"
    }
   },
   "outputs": [
    {
     "name": "stderr",
     "output_type": "stream",
     "text": [
      "/Users/mattgiamou/stars/code/bingham-rotation-learning/helpers_sim.py:209: UserWarning: Matplotlib is currently using module://ipykernel.pylab.backend_inline, which is a non-GUI backend, so cannot show the figure.\n",
      "  fig.show()\n"
     ]
    },
    {
     "ename": "RuntimeError",
     "evalue": "Subtraction, the `-` operator, with a bool tensor is not supported. If you are trying to invert a mask, use the `~` or `logical_not()` operator instead.",
     "output_type": "error",
     "traceback": [
      "\u001B[0;31m---------------------------------------------------------------------------\u001B[0m",
      "\u001B[0;31mRuntimeError\u001B[0m                              Traceback (most recent call last)",
      "\u001B[0;32m<ipython-input-7-c416fa48ddd0>\u001B[0m in \u001B[0;36m<module>\u001B[0;34m\u001B[0m\n\u001B[1;32m      1\u001B[0m \u001B[0mmodels\u001B[0m \u001B[0;34m=\u001B[0m \u001B[0;34m[\u001B[0m\u001B[0mmodel_quat\u001B[0m\u001B[0;34m,\u001B[0m \u001B[0mmodel_6D\u001B[0m\u001B[0;34m,\u001B[0m \u001B[0mmodel_bingham\u001B[0m\u001B[0;34m]\u001B[0m\u001B[0;34m\u001B[0m\u001B[0;34m\u001B[0m\u001B[0m\n\u001B[1;32m      2\u001B[0m \u001B[0mlosses\u001B[0m \u001B[0;34m=\u001B[0m \u001B[0;34m[\u001B[0m\u001B[0mloss_fn_quat\u001B[0m\u001B[0;34m,\u001B[0m \u001B[0mloss_fn_6D\u001B[0m\u001B[0;34m,\u001B[0m \u001B[0mloss_fn_bingham\u001B[0m\u001B[0;34m]\u001B[0m\u001B[0;34m\u001B[0m\u001B[0;34m\u001B[0m\u001B[0m\n\u001B[0;32m----> 3\u001B[0;31m \u001B[0;34m(\u001B[0m\u001B[0m_\u001B[0m\u001B[0;34m,\u001B[0m \u001B[0m_\u001B[0m\u001B[0;34m)\u001B[0m \u001B[0;34m=\u001B[0m \u001B[0mtrain_test_models_with_plots\u001B[0m\u001B[0;34m(\u001B[0m\u001B[0margs\u001B[0m\u001B[0;34m,\u001B[0m \u001B[0mtrain_data\u001B[0m\u001B[0;34m,\u001B[0m \u001B[0mtest_data\u001B[0m\u001B[0;34m,\u001B[0m \u001B[0mmodels\u001B[0m\u001B[0;34m,\u001B[0m \u001B[0mlosses\u001B[0m\u001B[0;34m,\u001B[0m \u001B[0mrotmat_targets\u001B[0m\u001B[0;34m=\u001B[0m\u001B[0;32mFalse\u001B[0m\u001B[0;34m)\u001B[0m\u001B[0;34m\u001B[0m\u001B[0;34m\u001B[0m\u001B[0m\n\u001B[0m\u001B[1;32m      4\u001B[0m \u001B[0;34m\u001B[0m\u001B[0m\n",
      "\u001B[0;32m~/stars/code/bingham-rotation-learning/helpers_sim.py\u001B[0m in \u001B[0;36mtrain_test_models_with_plots\u001B[0;34m(args, train_data, test_data, models, loss_fns, rotmat_targets, verbose)\u001B[0m\n\u001B[1;32m    220\u001B[0m                                                                   \u001B[0msigma\u001B[0m\u001B[0;34m=\u001B[0m\u001B[0margs\u001B[0m\u001B[0;34m.\u001B[0m\u001B[0msim_sigma\u001B[0m\u001B[0;34m,\u001B[0m \u001B[0mbeachball\u001B[0m\u001B[0;34m=\u001B[0m\u001B[0mbeachball\u001B[0m\u001B[0;34m,\u001B[0m\u001B[0;34m\u001B[0m\u001B[0;34m\u001B[0m\u001B[0m\n\u001B[1;32m    221\u001B[0m                                                                   \u001B[0mbeachball_factors\u001B[0m\u001B[0;34m=\u001B[0m\u001B[0mbeachball_factors\u001B[0m\u001B[0;34m,\u001B[0m \u001B[0mdevice\u001B[0m\u001B[0;34m=\u001B[0m\u001B[0mdevice\u001B[0m\u001B[0;34m,\u001B[0m\u001B[0;34m\u001B[0m\u001B[0;34m\u001B[0m\u001B[0m\n\u001B[0;32m--> 222\u001B[0;31m                                                                   dtype=tensor_type)\n\u001B[0m\u001B[1;32m    223\u001B[0m \u001B[0;34m\u001B[0m\u001B[0m\n\u001B[1;32m    224\u001B[0m         \u001B[0mnum_train_batches\u001B[0m \u001B[0;34m=\u001B[0m \u001B[0margs\u001B[0m\u001B[0;34m.\u001B[0m\u001B[0mN_train\u001B[0m \u001B[0;34m//\u001B[0m \u001B[0margs\u001B[0m\u001B[0;34m.\u001B[0m\u001B[0mbatch_size_train\u001B[0m\u001B[0;34m\u001B[0m\u001B[0;34m\u001B[0m\u001B[0m\n",
      "\u001B[0;32m~/stars/code/bingham-rotation-learning/helpers_sim.py\u001B[0m in \u001B[0;36mcreate_experimental_data_fast\u001B[0;34m(N_train, N_test, N_matches_per_sample, sigma, beachball, max_rotation_angle, beachball_factors, device, dtype)\u001B[0m\n\u001B[1;32m    426\u001B[0m         \u001B[0mC_test\u001B[0m\u001B[0;34m,\u001B[0m \u001B[0mx_1_test\u001B[0m\u001B[0;34m,\u001B[0m \u001B[0mx_2_test\u001B[0m \u001B[0;34m=\u001B[0m \u001B[0mgen_sim_data_beachball\u001B[0m\u001B[0;34m(\u001B[0m\u001B[0mN_test\u001B[0m\u001B[0;34m,\u001B[0m \u001B[0mN_matches_per_sample\u001B[0m\u001B[0;34m,\u001B[0m \u001B[0msigma\u001B[0m\u001B[0;34m,\u001B[0m \u001B[0mbeachball_factors\u001B[0m\u001B[0;34m)\u001B[0m\u001B[0;34m\u001B[0m\u001B[0;34m\u001B[0m\u001B[0m\n\u001B[1;32m    427\u001B[0m     \u001B[0;32melse\u001B[0m\u001B[0;34m:\u001B[0m\u001B[0;34m\u001B[0m\u001B[0;34m\u001B[0m\u001B[0m\n\u001B[0;32m--> 428\u001B[0;31m         \u001B[0mC_train\u001B[0m\u001B[0;34m,\u001B[0m \u001B[0mx_1_train\u001B[0m\u001B[0;34m,\u001B[0m \u001B[0mx_2_train\u001B[0m \u001B[0;34m=\u001B[0m \u001B[0mgen_sim_data_fast\u001B[0m\u001B[0;34m(\u001B[0m\u001B[0mN_train\u001B[0m\u001B[0;34m,\u001B[0m \u001B[0mN_matches_per_sample\u001B[0m\u001B[0;34m,\u001B[0m \u001B[0msigma\u001B[0m\u001B[0;34m,\u001B[0m \u001B[0mmax_rotation_angle\u001B[0m\u001B[0;34m=\u001B[0m\u001B[0mmax_rotation_angle\u001B[0m\u001B[0;34m)\u001B[0m\u001B[0;34m\u001B[0m\u001B[0;34m\u001B[0m\u001B[0m\n\u001B[0m\u001B[1;32m    429\u001B[0m         \u001B[0mC_test\u001B[0m\u001B[0;34m,\u001B[0m \u001B[0mx_1_test\u001B[0m\u001B[0;34m,\u001B[0m \u001B[0mx_2_test\u001B[0m \u001B[0;34m=\u001B[0m \u001B[0mgen_sim_data_fast\u001B[0m\u001B[0;34m(\u001B[0m\u001B[0mN_test\u001B[0m\u001B[0;34m,\u001B[0m \u001B[0mN_matches_per_sample\u001B[0m\u001B[0;34m,\u001B[0m \u001B[0msigma\u001B[0m\u001B[0;34m,\u001B[0m \u001B[0mmax_rotation_angle\u001B[0m\u001B[0;34m=\u001B[0m\u001B[0mmax_rotation_angle\u001B[0m\u001B[0;34m)\u001B[0m\u001B[0;34m\u001B[0m\u001B[0;34m\u001B[0m\u001B[0m\n\u001B[1;32m    430\u001B[0m \u001B[0;34m\u001B[0m\u001B[0m\n",
      "\u001B[0;32m~/stars/code/bingham-rotation-learning/helpers_sim.py\u001B[0m in \u001B[0;36mgen_sim_data_fast\u001B[0;34m(N_rotations, N_matches_per_rotation, sigma, max_rotation_angle, dtype)\u001B[0m\n\u001B[1;32m    383\u001B[0m     \u001B[0mangle\u001B[0m \u001B[0;34m=\u001B[0m \u001B[0mmax_angle\u001B[0m\u001B[0;34m*\u001B[0m\u001B[0mtorch\u001B[0m\u001B[0;34m.\u001B[0m\u001B[0mrand\u001B[0m\u001B[0;34m(\u001B[0m\u001B[0mN_rotations\u001B[0m\u001B[0;34m,\u001B[0m \u001B[0;36m1\u001B[0m\u001B[0;34m)\u001B[0m\u001B[0;34m\u001B[0m\u001B[0;34m\u001B[0m\u001B[0m\n\u001B[1;32m    384\u001B[0m \u001B[0;34m\u001B[0m\u001B[0m\n\u001B[0;32m--> 385\u001B[0;31m     \u001B[0mC\u001B[0m \u001B[0;34m=\u001B[0m \u001B[0mSO3_torch\u001B[0m\u001B[0;34m.\u001B[0m\u001B[0mexp\u001B[0m\u001B[0;34m(\u001B[0m\u001B[0mangle\u001B[0m\u001B[0;34m*\u001B[0m\u001B[0maxis\u001B[0m\u001B[0;34m)\u001B[0m\u001B[0;34m.\u001B[0m\u001B[0mas_matrix\u001B[0m\u001B[0;34m(\u001B[0m\u001B[0;34m)\u001B[0m\u001B[0;34m\u001B[0m\u001B[0;34m\u001B[0m\u001B[0m\n\u001B[0m\u001B[1;32m    386\u001B[0m     \u001B[0;32mif\u001B[0m \u001B[0mN_rotations\u001B[0m \u001B[0;34m==\u001B[0m \u001B[0;36m1\u001B[0m\u001B[0;34m:\u001B[0m\u001B[0;34m\u001B[0m\u001B[0;34m\u001B[0m\u001B[0m\n\u001B[1;32m    387\u001B[0m         \u001B[0mC\u001B[0m \u001B[0;34m=\u001B[0m \u001B[0mC\u001B[0m\u001B[0;34m.\u001B[0m\u001B[0munsqueeze\u001B[0m\u001B[0;34m(\u001B[0m\u001B[0mdim\u001B[0m\u001B[0;34m=\u001B[0m\u001B[0;36m0\u001B[0m\u001B[0;34m)\u001B[0m\u001B[0;34m\u001B[0m\u001B[0;34m\u001B[0m\u001B[0m\n",
      "\u001B[0;32m~/stars/code/liegroups/liegroups/torch/so3.py\u001B[0m in \u001B[0;36mexp\u001B[0;34m(cls, phi)\u001B[0m\n\u001B[1;32m     36\u001B[0m \u001B[0;34m\u001B[0m\u001B[0m\n\u001B[1;32m     37\u001B[0m         \u001B[0;31m# Otherwise...\u001B[0m\u001B[0;34m\u001B[0m\u001B[0;34m\u001B[0m\u001B[0;34m\u001B[0m\u001B[0m\n\u001B[0;32m---> 38\u001B[0;31m         \u001B[0mlarge_angle_mask\u001B[0m \u001B[0;34m=\u001B[0m \u001B[0;36m1\u001B[0m \u001B[0;34m-\u001B[0m \u001B[0msmall_angle_mask\u001B[0m  \u001B[0;31m# element-wise not\u001B[0m\u001B[0;34m\u001B[0m\u001B[0;34m\u001B[0m\u001B[0m\n\u001B[0m\u001B[1;32m     39\u001B[0m         \u001B[0mlarge_angle_inds\u001B[0m \u001B[0;34m=\u001B[0m \u001B[0mlarge_angle_mask\u001B[0m\u001B[0;34m.\u001B[0m\u001B[0mnonzero\u001B[0m\u001B[0;34m(\u001B[0m\u001B[0;34m)\u001B[0m\u001B[0;34m.\u001B[0m\u001B[0msqueeze_\u001B[0m\u001B[0;34m(\u001B[0m\u001B[0mdim\u001B[0m\u001B[0;34m=\u001B[0m\u001B[0;36m1\u001B[0m\u001B[0;34m)\u001B[0m\u001B[0;34m\u001B[0m\u001B[0;34m\u001B[0m\u001B[0m\n\u001B[1;32m     40\u001B[0m \u001B[0;34m\u001B[0m\u001B[0m\n",
      "\u001B[0;32m~/anaconda3/lib/python3.7/site-packages/torch/tensor.py\u001B[0m in \u001B[0;36m__rsub__\u001B[0;34m(self, other)\u001B[0m\n\u001B[1;32m    344\u001B[0m \u001B[0;34m\u001B[0m\u001B[0m\n\u001B[1;32m    345\u001B[0m     \u001B[0;32mdef\u001B[0m \u001B[0m__rsub__\u001B[0m\u001B[0;34m(\u001B[0m\u001B[0mself\u001B[0m\u001B[0;34m,\u001B[0m \u001B[0mother\u001B[0m\u001B[0;34m)\u001B[0m\u001B[0;34m:\u001B[0m\u001B[0;34m\u001B[0m\u001B[0;34m\u001B[0m\u001B[0m\n\u001B[0;32m--> 346\u001B[0;31m         \u001B[0;32mreturn\u001B[0m \u001B[0m_C\u001B[0m\u001B[0;34m.\u001B[0m\u001B[0m_VariableFunctions\u001B[0m\u001B[0;34m.\u001B[0m\u001B[0mrsub\u001B[0m\u001B[0;34m(\u001B[0m\u001B[0mself\u001B[0m\u001B[0;34m,\u001B[0m \u001B[0mother\u001B[0m\u001B[0;34m)\u001B[0m\u001B[0;34m\u001B[0m\u001B[0;34m\u001B[0m\u001B[0m\n\u001B[0m\u001B[1;32m    347\u001B[0m \u001B[0;34m\u001B[0m\u001B[0m\n\u001B[1;32m    348\u001B[0m     \u001B[0;32mdef\u001B[0m \u001B[0m__rdiv__\u001B[0m\u001B[0;34m(\u001B[0m\u001B[0mself\u001B[0m\u001B[0;34m,\u001B[0m \u001B[0mother\u001B[0m\u001B[0;34m)\u001B[0m\u001B[0;34m:\u001B[0m\u001B[0;34m\u001B[0m\u001B[0;34m\u001B[0m\u001B[0m\n",
      "\u001B[0;31mRuntimeError\u001B[0m: Subtraction, the `-` operator, with a bool tensor is not supported. If you are trying to invert a mask, use the `~` or `logical_not()` operator instead."
     ]
    },
    {
     "data": {
      "text/plain": "<Figure size 432x288 with 1 Axes>",
      "image/png": "[encoded data removed]"
     },
     "metadata": {
      "needs_background": "light"
     },
     "output_type": "display_data"
    }
   ],
   "source": [
    "models = [model_quat, model_6D, model_bingham]\n",
    "losses = [loss_fn_quat, loss_fn_6D, loss_fn_bingham]\n",
    "(_, _) = train_test_models_with_plots(args, train_data, test_data, models, losses, rotmat_targets=False)\n"
   ]
  }
 ],
 "metadata": {
  "kernelspec": {
   "display_name": "Python 3",
   "language": "python",
   "name": "python3"
  },
  "language_info": {
   "codemirror_mode": {
    "name": "ipython",
    "version": 3
   },
   "file_extension": ".py",
   "mimetype": "text/x-python",
   "name": "python",
   "nbconvert_exporter": "python",
   "pygments_lexer": "ipython3",
   "version": "3.7.3"
  }
 },
 "nbformat": 4,
 "nbformat_minor": 1
}